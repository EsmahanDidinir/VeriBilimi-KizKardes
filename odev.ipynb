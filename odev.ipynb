{
 "cells": [
  {
   "cell_type": "markdown",
   "id": "4ab38564",
   "metadata": {},
   "source": [
    "## Question1"
   ]
  },
  {
   "cell_type": "code",
   "execution_count": 12,
   "id": "562450c2",
   "metadata": {},
   "outputs": [],
   "source": [
    "def liste_eleman_sayisi(liste):\n",
    "    if liste == []:\n",
    "        return \"Liste Boş!\"\n",
    "\n",
    "    else:\n",
    "        print(liste)\n",
    "        return len(liste)\n",
    "        "
   ]
  },
  {
   "cell_type": "code",
   "execution_count": 13,
   "id": "0621155e",
   "metadata": {},
   "outputs": [
    {
     "name": "stdout",
     "output_type": "stream",
     "text": [
      "[1, 2, 3, 4]\n",
      "4\n",
      "Liste Boş!\n"
     ]
    }
   ],
   "source": [
    "#Liste dolu ise\n",
    "liste1 = [1,2,3,4]\n",
    "print(liste_eleman_sayisi(liste1))\n",
    "\n",
    "#Liste boş ise\n",
    "liste2 = []\n",
    "print(liste_eleman_sayisi(liste2))"
   ]
  },
  {
   "cell_type": "markdown",
   "id": "53446092",
   "metadata": {},
   "source": [
    "Açıklaması : Bu fonksiyon, bir listenin içinde kaç tane eleman olduğunu gösteriyor. Eğer liste boşsa, kullanıcıya \"Liste boş\" diye bir uyarı veriyor. Ama boş değilse, listenin içindekileri ve kaç tane olduklarını ekrana yazıyor.\n",
    "\n",
    "Fonksiyonu tanımlamak için def kelimesini kullandık. Listenin boş olup olmadığını kontrol etmek için de if ve else yapısını kullandık. len fonksiyonu da burada bir listenin uzunluğunu yani kaç eleman olduğunu kolayca öğrenmemizi sağlıyo"
   ]
  },
  {
   "cell_type": "markdown",
   "id": "5eba1236",
   "metadata": {},
   "source": [
    "## Question2"
   ]
  },
  {
   "cell_type": "code",
   "execution_count": 26,
   "id": "1af4b338",
   "metadata": {},
   "outputs": [],
   "source": [
    "def karakter_sayaci(metin,buyuk_kucuk = False ):\n",
    "    if buyuk_kucuk:\n",
    "        metin=metin.lower()\n",
    "\n",
    "    sayim = {}\n",
    "\n",
    "    for karakter in metin:\n",
    "            if karakter in sayim:\n",
    "                sayim[karakter]+=1\n",
    "            else:\n",
    "                sayim[karakter]=1\n",
    "    return sayim"
   ]
  },
  {
   "cell_type": "code",
   "execution_count": 28,
   "id": "485a304f",
   "metadata": {},
   "outputs": [
    {
     "name": "stdout",
     "output_type": "stream",
     "text": [
      "{'E': 1, 's': 1, 'm': 1, 'a': 2, 'h': 1, 'n': 2, ' ': 1, 'D': 1, 'i': 3, 'd': 1, 'r': 1}\n",
      "{'e': 1, 's': 1, 'm': 1, 'a': 2, 'h': 1, 'n': 2, ' ': 1, 'd': 2, 'i': 3, 'r': 1}\n"
     ]
    }
   ],
   "source": [
    "print(karakter_sayaci(\"Esmahan Didinir\"))\n",
    "\n",
    "print(karakter_sayaci(\"Esmahan Didinir\",buyuk_kucuk=True))"
   ]
  },
  {
   "cell_type": "markdown",
   "id": "3ce4c8f1",
   "metadata": {},
   "source": [
    "Açıklaması:Bu fonksiyon, bir yazının içinde hangi harften kaç tane olduğunu sayıyor. Fonksiyonu yazarken hem kullanıcıdan gelen metni alıyoruz, hem de isterse büyük/küçük harf ayrımı olsun mu diye bir seçenek sunuyoruz.\n",
    "\n",
    "Bu ayrım varsayılan olarak açık, yani \"A\" ve \"a\" farklı sayılıyor. Ama kullanıcı isterse hepsini küçük harf gibi kabul edip sayabiliyoruz. Bunun için if ile bir koşul kurduk ve tüm harfleri küçülttük.\n",
    "\n",
    "Sonra, hangi harften kaç tane var onu tutmak için boş bir sözlük oluşturduk. Yazının içindeki her karakteri for döngüsüyle teker teker gezdik. Eğer daha önce gördüğümüz bir karakterse sayısını artırdık, yoksa 1 ile başladık.\n",
    "\n",
    "En sonunda da bu sayıları içeren sözlüğü geri döndürdük. Yani kullanıcı yazdığı metindeki harflerin kaç kere geçtiğini kolayca görebiliyor."
   ]
  },
  {
   "cell_type": "code",
   "execution_count": 29,
   "id": "3d45116f",
   "metadata": {},
   "outputs": [],
   "source": [
    "def filtrele_ve_kare_al(sayilar, esik):\n",
    "    sonuc = []  \n",
    "    for sayi in sayilar:\n",
    "        if sayi >= esik:\n",
    "            sonuc.append(sayi ** 2) \n",
    "    return sonuc\n"
   ]
  },
  {
   "cell_type": "code",
   "execution_count": 30,
   "id": "46eb28d6",
   "metadata": {},
   "outputs": [
    {
     "name": "stdout",
     "output_type": "stream",
     "text": [
      "[25, 64, 100]\n"
     ]
    }
   ],
   "source": [
    "liste = [1, 5, 8, 3, 10]\n",
    "print(filtrele_ve_kare_al(liste, 5))\n",
    "\n"
   ]
  },
  {
   "cell_type": "markdown",
   "id": "8d3c030f",
   "metadata": {},
   "source": [
    "Açıklaması:append: Listemize yeni bir öğe eklemek için kullanılır. Biz de uygun olan sayıları karelerine alıp listeye ekliyoruz.\n",
    "\n",
    "if: Eşik değeriyle kıyaslama yaparak yalnızca uygun sayıları seçiyoruz."
   ]
  }
 ],
 "metadata": {
  "kernelspec": {
   "display_name": "Python 3",
   "language": "python",
   "name": "python3"
  },
  "language_info": {
   "codemirror_mode": {
    "name": "ipython",
    "version": 3
   },
   "file_extension": ".py",
   "mimetype": "text/x-python",
   "name": "python",
   "nbconvert_exporter": "python",
   "pygments_lexer": "ipython3",
   "version": "3.11.11"
  }
 },
 "nbformat": 4,
 "nbformat_minor": 5
}
